{
  "metadata": {
    "kernelspec": {
      "name": "python",
      "display_name": "Pyolite",
      "language": "python"
    },
    "language_info": {
      "codemirror_mode": {
        "name": "ipython",
        "version": 3
      },
      "file_extension": ".py",
      "mimetype": "text/x-python",
      "name": "python",
      "nbconvert_exporter": "python",
      "pygments_lexer": "ipython3",
      "version": "3.7.6"
    }
  },
  "nbformat_minor": 4,
  "nbformat": 4,
  "cells": [
    {
      "cell_type": "markdown",
      "source": "<h1> My Jupyter Notebook on IBM Watson Studio",
      "metadata": {}
    },
    {
      "cell_type": "markdown",
      "source": "<b> Gina Ortiz </b>\n<br> Data Scientist",
      "metadata": {}
    },
    {
      "cell_type": "markdown",
      "source": "<i> I am interested in data science because I feel it is a great way to analyze information to support the changes needed to improve an organization.",
      "metadata": {}
    },
    {
      "cell_type": "markdown",
      "source": "<h3> The code in Cell 5 will compute 2 plus 2.",
      "metadata": {}
    },
    {
      "cell_type": "code",
      "source": "2 + 2",
      "metadata": {
        "trusted": true
      },
      "execution_count": 4,
      "outputs": [
        {
          "execution_count": 4,
          "output_type": "execute_result",
          "data": {
            "text/plain": "4"
          },
          "metadata": {}
        }
      ]
    },
    {
      "cell_type": "markdown",
      "source": "This course has helped me understand the use of Jupyter Notebook in several ways.\n<br> <hr> \n<ol>\n    <li>Using Skills Network Labs </li>\n    <li>Using Watson Studieos </li>\n    <li>Code needed to change the formatting </li>\n    </ol>\nFind information on this course at \n<a href=\"www.coursera.org\">Coursera</a>",
      "metadata": {}
    }
  ]
}